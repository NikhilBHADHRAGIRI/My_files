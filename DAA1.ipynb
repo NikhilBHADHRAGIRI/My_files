{
  "nbformat": 4,
  "nbformat_minor": 0,
  "metadata": {
    "colab": {
      "provenance": [],
      "authorship_tag": "ABX9TyNj4RiSxqsy6Klvt5F0c5P8",
      "include_colab_link": true
    },
    "kernelspec": {
      "name": "python3",
      "display_name": "Python 3"
    },
    "language_info": {
      "name": "python"
    }
  },
  "cells": [
    {
      "cell_type": "markdown",
      "metadata": {
        "id": "view-in-github",
        "colab_type": "text"
      },
      "source": [
        "<a href=\"https://colab.research.google.com/github/NikhilBHADHRAGIRI/My_files/blob/main/DAA1.ipynb\" target=\"_parent\"><img src=\"https://colab.research.google.com/assets/colab-badge.svg\" alt=\"Open In Colab\"/></a>"
      ]
    },
    {
      "cell_type": "markdown",
      "source": [
        "Answer1:"
      ],
      "metadata": {
        "id": "4pw8w_wVetdg"
      }
    },
    {
      "cell_type": "markdown",
      "source": [
        "After running the given bugged code the merge process is like as below"
      ],
      "metadata": {
        "id": "wD6F2_JE0f5V"
      }
    },
    {
      "cell_type": "code",
      "source": [
        "from IPython.display import Image\n",
        "Image(url=\"https://github.com/NikhilBHADHRAGIRI/My_files/blob/main/PICTURE1.jpeg?raw=true\")"
      ],
      "metadata": {
        "colab": {
          "base_uri": "https://localhost:8080/",
          "height": 230
        },
        "id": "JrPqnayk1ipA",
        "outputId": "9db44ec6-d36a-442a-bc8c-98d718f92960"
      },
      "execution_count": null,
      "outputs": [
        {
          "output_type": "execute_result",
          "data": {
            "text/html": [
              "<img src=\"https://github.com/NikhilBHADHRAGIRI/My_files/blob/main/PICTURE1.jpeg?raw=true\"/>"
            ],
            "text/plain": [
              "<IPython.core.display.Image object>"
            ]
          },
          "metadata": {},
          "execution_count": 11
        }
      ]
    },
    {
      "cell_type": "markdown",
      "source": [
        "Bugged mergesort code:"
      ],
      "metadata": {
        "id": "w9eA-yw03KJb"
      }
    },
    {
      "cell_type": "code",
      "source": [
        "import math\n",
        "def merge(arr, p, q, r):\n",
        "    L = arr[p:q]\n",
        "    R = arr[q:r+1]\n",
        "    L.append(math.inf)\n",
        "    R.append(math.inf)\n",
        "    i, j = 0, 0\n",
        "    for k in range(p, r+1):\n",
        "        if L[i] <= R[j]:\n",
        "            arr[k] = L[i]\n",
        "            i += 1\n",
        "        else:\n",
        "            arr[k] = R[j]\n",
        "            j += 1\n",
        "        \n",
        "    \n",
        "    \n",
        "def mergeSort(arr, p, r,):\n",
        "    if p < r:\n",
        "        q = (p+r) // 2\n",
        "        \n",
        "        mergeSort(arr, p, q)\n",
        "        \n",
        "        mergeSort(arr, q+1, r)\n",
        "        \n",
        "        merge(arr, p, q, r)\n",
        "        \n",
        "        \n",
        "    return arr\n",
        "arr =[5,4,9,1]\n",
        "print(arr)\n",
        "p=0\n",
        "r=len(arr)-1\n",
        "print(mergeSort(arr,p,r,))"
      ],
      "metadata": {
        "colab": {
          "base_uri": "https://localhost:8080/"
        },
        "id": "nMD1c0mZ3Q8I",
        "outputId": "695f235c-0296-4bea-e7b6-3a8f5857f4bb"
      },
      "execution_count": null,
      "outputs": [
        {
          "output_type": "stream",
          "name": "stdout",
          "text": [
            "[5, 4, 9, 1]\n",
            "[4, 5, 9, 1]\n"
          ]
        }
      ]
    },
    {
      "cell_type": "markdown",
      "source": [
        "Here the bugged code is giving an output as unsorted array.The bug in the code lies in the merge function.\n",
        "L = arr[p:q] should be changed to L = arr[p:q+1] and\n",
        "R = arr[q:r+1] should be changed to R = arr[q+1:r+1].\n",
        "Now after debugging , the merge process will be like"
      ],
      "metadata": {
        "id": "cuBlmsd13Zol"
      }
    },
    {
      "cell_type": "code",
      "source": [
        "from IPython.display import Image\n",
        "Image(url=\"https://github.com/NikhilBHADHRAGIRI/My_files/blob/main/PICTURE2.jpeg?raw=true\")"
      ],
      "metadata": {
        "colab": {
          "base_uri": "https://localhost:8080/",
          "height": 309
        },
        "id": "NuSTcOdVBEhi",
        "outputId": "6a4d60ad-b939-4817-8742-9ce79faed9dd"
      },
      "execution_count": null,
      "outputs": [
        {
          "output_type": "execute_result",
          "data": {
            "text/html": [
              "<img src=\"https://github.com/NikhilBHADHRAGIRI/My_files/blob/main/PICTURE2.jpeg?raw=true\"/>"
            ],
            "text/plain": [
              "<IPython.core.display.Image object>"
            ]
          },
          "metadata": {},
          "execution_count": 12
        }
      ]
    },
    {
      "cell_type": "markdown",
      "source": [
        "Debugged Code:"
      ],
      "metadata": {
        "id": "_KMXKsowBTLd"
      }
    },
    {
      "cell_type": "code",
      "source": [
        "import math\n",
        "def merge(arr, p, q, r):\n",
        "    L = arr[p:q+1]\n",
        "    R = arr[q+1:r+1]\n",
        "    L.append(math.inf)\n",
        "    R.append(math.inf)\n",
        "    i, j = 0, 0\n",
        "    for k in range(p, r+1):\n",
        "        if L[i] <= R[j]:\n",
        "            arr[k] = L[i]\n",
        "            i += 1\n",
        "        else:\n",
        "            arr[k] = R[j]\n",
        "            j += 1\n",
        "        \n",
        "    \n",
        "    \n",
        "def mergeSort(arr, p, r,):\n",
        "    if p < r:\n",
        "        q = (p+r) // 2\n",
        "        \n",
        "        mergeSort(arr, p, q)\n",
        "        \n",
        "        mergeSort(arr, q+1, r)\n",
        "        \n",
        "        merge(arr, p, q, r)\n",
        "        \n",
        "        \n",
        "    return arr\n",
        "arr =[5,4,9,1]\n",
        "print(arr)\n",
        "p=0\n",
        "r=len(arr)-1\n",
        "print(mergeSort(arr,p,r,))"
      ],
      "metadata": {
        "colab": {
          "base_uri": "https://localhost:8080/"
        },
        "id": "X-PQGPtYfBGM",
        "outputId": "05c2c97f-64e4-42b9-afaa-6b59791b671b"
      },
      "execution_count": null,
      "outputs": [
        {
          "output_type": "stream",
          "name": "stdout",
          "text": [
            "[5, 4, 9, 1]\n",
            "[1, 4, 5, 9]\n"
          ]
        }
      ]
    },
    {
      "cell_type": "markdown",
      "source": [
        "The result of thid debugged code is a sorted array."
      ],
      "metadata": {
        "id": "GeKRaBVTBZ9C"
      }
    },
    {
      "cell_type": "markdown",
      "source": [
        "Answer2.1:"
      ],
      "metadata": {
        "id": "LixOwkc2fcLP"
      }
    },
    {
      "cell_type": "markdown",
      "source": [
        "Given array is arr = [x for x in range(1<< 10, 0, -1)]\n",
        "If we pass this array into an insertion sort code"
      ],
      "metadata": {
        "id": "QyVtb9ICB-MN"
      }
    },
    {
      "cell_type": "markdown",
      "source": [
        "Insertion Sort code:"
      ],
      "metadata": {
        "id": "2CvU9Ss7CU7D"
      }
    },
    {
      "cell_type": "code",
      "source": [
        "arr = [x for x in range(1<<10, 0, -1)]\n",
        "l=len(arr)\n",
        "c=0\n",
        "for j in range(1,l):\n",
        "    k=arr[j]\n",
        "    i=j-1\n",
        "    while(i>=0 and arr[i]>k):\n",
        "        arr[i+1]=arr[i]\n",
        "        i=i-1\n",
        "        c=c+1\n",
        "    arr[i+1]=k\n",
        "print(c)"
      ],
      "metadata": {
        "colab": {
          "base_uri": "https://localhost:8080/"
        },
        "id": "KxtXKz15frMh",
        "outputId": "5e87f7dc-9c5c-4701-ee7a-9cf46048e642"
      },
      "execution_count": null,
      "outputs": [
        {
          "output_type": "stream",
          "name": "stdout",
          "text": [
            "523776\n"
          ]
        }
      ]
    },
    {
      "cell_type": "markdown",
      "source": [
        "The total number of iterations the inner while loop\n",
        "executes is 523776."
      ],
      "metadata": {
        "id": "oYLG2NpFCd36"
      }
    },
    {
      "cell_type": "markdown",
      "source": [
        "Answer 2.2:"
      ],
      "metadata": {
        "id": "tLOwyeuoC0FF"
      }
    },
    {
      "cell_type": "markdown",
      "source": [
        "If we pass the array arr = [x for x in range(1<< 10, 0, -1)] into merge sort,then"
      ],
      "metadata": {
        "id": "P13Skg0-DFYO"
      }
    },
    {
      "cell_type": "markdown",
      "source": [
        "Merge Sort code:"
      ],
      "metadata": {
        "id": "V_XfGjAJDWJn"
      }
    },
    {
      "cell_type": "code",
      "source": [
        "import math\n",
        "def merge(arr, p, q, r):\n",
        "    L = arr[p:q+1]\n",
        "    R = arr[q+1:r+1]\n",
        "    L.append(math.inf)\n",
        "    R.append(math.inf)\n",
        "    i, j = 0, 0\n",
        "    count = 0\n",
        "    for k in range(p, r+1):\n",
        "        if L[i] <= R[j]:\n",
        "            arr[k] = L[i]\n",
        "            i += 1\n",
        "        else:\n",
        "            arr[k] = R[j]\n",
        "            j += 1\n",
        "        count=count+1\n",
        "    return count\n",
        "    \n",
        "def mergeSort(arr, p, r,d):\n",
        "    if p < r:\n",
        "        q = (p+r) // 2\n",
        "        \n",
        "        mergeSort(arr, p, q,d)\n",
        "        \n",
        "        mergeSort(arr, q+1, r,d)\n",
        "        \n",
        "        x=merge(arr, p, q, r)\n",
        "        \n",
        "        d.append(x)\n",
        "    return arr,d\n",
        "\n",
        "\n",
        "d=[]\n",
        "arr = [x for x in range(1<<10, 0, -1)]\n",
        "p=0\n",
        "r=len(arr)-1\n",
        "mergeSort(arr,p,r,d)\n",
        "c=sum(d)\n",
        "print(c)"
      ],
      "metadata": {
        "colab": {
          "base_uri": "https://localhost:8080/"
        },
        "id": "M3ti6PZygfjT",
        "outputId": "5780260e-6250-4f57-9886-417d3e5049d1"
      },
      "execution_count": null,
      "outputs": [
        {
          "output_type": "stream",
          "name": "stdout",
          "text": [
            "10240\n"
          ]
        }
      ]
    },
    {
      "cell_type": "markdown",
      "source": [
        "The total number of iterations the for loop executes is 10240. "
      ],
      "metadata": {
        "id": "RaJt-xNOD69N"
      }
    },
    {
      "cell_type": "markdown",
      "source": [
        "Answer 2.3:"
      ],
      "metadata": {
        "id": "SSXJgNAKEK2p"
      }
    },
    {
      "cell_type": "markdown",
      "source": [],
      "metadata": {
        "id": "VcaVtLnKFLgU"
      }
    },
    {
      "cell_type": "markdown",
      "source": [
        "Given array is arr = [x for x in range(1<< 10, 0, -1)] If we pass this array into an insertion sort code"
      ],
      "metadata": {
        "id": "sCmwdcApENqr"
      }
    },
    {
      "cell_type": "markdown",
      "source": [
        "Insertion Sort code:"
      ],
      "metadata": {
        "id": "ewCjcRM-Een2"
      }
    },
    {
      "cell_type": "code",
      "source": [
        "arr = [x for x in range(1<<12, 0, -1)]\n",
        "l=len(arr)\n",
        "c=0\n",
        "for j in range(1,l):\n",
        "    k=arr[j]\n",
        "    i=j-1\n",
        "    while(i>=0 and arr[i]>k):\n",
        "        arr[i+1]=arr[i]\n",
        "        i=i-1\n",
        "        c=c+1\n",
        "    arr[i+1]=k\n",
        "print(c)"
      ],
      "metadata": {
        "colab": {
          "base_uri": "https://localhost:8080/"
        },
        "id": "UpsEpdWygsqt",
        "outputId": "3f1292e8-7dd9-474a-d387-1db7ce70f2e5"
      },
      "execution_count": null,
      "outputs": [
        {
          "output_type": "stream",
          "name": "stdout",
          "text": [
            "8386560\n"
          ]
        }
      ]
    },
    {
      "cell_type": "markdown",
      "source": [
        "The total number of iterations the inner while loop executes is 8386560."
      ],
      "metadata": {
        "id": "Z7pH7MMXEs4z"
      }
    },
    {
      "cell_type": "markdown",
      "source": [
        "If we pass the array arr = [x for x in range(1<< 10, 0, -1)] into merge sort,then\n",
        "\n",
        "Merge Sort code:"
      ],
      "metadata": {
        "id": "dvKB6S7yE1FW"
      }
    },
    {
      "cell_type": "code",
      "source": [
        "import math\n",
        "def merge(arr, p, q, r):\n",
        "    L = arr[p:q+1]\n",
        "    R = arr[q+1:r+1]\n",
        "    L.append(math.inf)\n",
        "    R.append(math.inf)\n",
        "    i, j = 0, 0\n",
        "    count = 0\n",
        "    for k in range(p, r+1):\n",
        "        if L[i] <= R[j]:\n",
        "            arr[k] = L[i]\n",
        "            i += 1\n",
        "        else:\n",
        "            arr[k] = R[j]\n",
        "            j += 1\n",
        "        count=count+1\n",
        "    return count\n",
        "    \n",
        "def mergeSort(arr, p, r,d):\n",
        "    if p < r:\n",
        "        q = (p+r) // 2\n",
        "        \n",
        "        mergeSort(arr, p, q,d)\n",
        "        \n",
        "        mergeSort(arr, q+1, r,d)\n",
        "        \n",
        "        x=merge(arr, p, q, r)\n",
        "        \n",
        "        d.append(x)\n",
        "    return arr,d\n",
        "\n",
        "\n",
        "d=[]\n",
        "arr = [x for x in range(1<<12, 0, -1)]\n",
        "\n",
        "p=0\n",
        "r=len(arr)-1\n",
        "mergeSort(arr,p,r,d)\n",
        "coun=sum(d)\n",
        "print(coun)\n",
        "print(len(arr))"
      ],
      "metadata": {
        "colab": {
          "base_uri": "https://localhost:8080/"
        },
        "id": "sfiBIMABg4DL",
        "outputId": "97ab6bf9-7ee1-4a00-b189-5481bb5cfbbc"
      },
      "execution_count": null,
      "outputs": [
        {
          "output_type": "stream",
          "name": "stdout",
          "text": [
            "49152\n",
            "4096\n"
          ]
        }
      ]
    },
    {
      "cell_type": "markdown",
      "source": [
        "The total number of iterations the for loop executes is 49152."
      ],
      "metadata": {
        "id": "vKlfNM1OFPqW"
      }
    },
    {
      "cell_type": "markdown",
      "source": [
        "For arr= [x for x in range(1<<10, 0, -1)],n=1024,the loop in insertion sort executes 523776 times which is approximately n^2/2 which defines its time complexity O(n^2) and the loop in merge sort executes 10240 times which defines its time complexity O(nlog(n)).Similarly with the othe array as well.This means that merge sort is more efficient sorting algorithm than insertion sort. "
      ],
      "metadata": {
        "id": "ZHA9xjO2FXUI"
      }
    },
    {
      "cell_type": "markdown",
      "source": [
        "Answer 3:\n"
      ],
      "metadata": {
        "id": "fULnGkdKI9oC"
      }
    },
    {
      "cell_type": "markdown",
      "source": [
        "Bubble Sort code:"
      ],
      "metadata": {
        "id": "WusAquvVJAzq"
      }
    },
    {
      "cell_type": "code",
      "source": [
        "def Bubblesort(Arr):\n",
        "  l=len(Arr)\n",
        "  for i in range(l):\n",
        "    for j in range(l-1-i):\n",
        "      if Arr[j] > Arr[j + 1]:\n",
        "        t=Arr[j]\n",
        "        Arr[j]=Arr[j+1]\n",
        "        Arr[j+1]=t\n",
        "  return(Arr)\n",
        "Arr=[5,4,7,6]\n",
        "print(Bubblesort(Arr))"
      ],
      "metadata": {
        "colab": {
          "base_uri": "https://localhost:8080/"
        },
        "id": "cv5K7RuvLPgE",
        "outputId": "844f1d48-9f24-455b-9a84-a99372f03022"
      },
      "execution_count": 26,
      "outputs": [
        {
          "output_type": "stream",
          "name": "stdout",
          "text": [
            "[4, 5, 6, 7]\n"
          ]
        }
      ]
    },
    {
      "cell_type": "markdown",
      "source": [
        "In order to demonstrate that Bubble-Sort is accurate, we must demonstrate that the end array Arr' is a permutation (reordering) of the initial array Arr such that Arr'[1] Arr'[2] ... Arr'[n]. Because the procedure never adds any new elements, the array Arr must always be a permutation of the initial array.\n",
        "\n",
        "It doesn't add new items to the array or remove old ones; it just swaps out the ones that are already there. As a result, Arr' is a permutation of Arr. We now need to demonstrate that Arr'[1] Arr'[2] ... Arr'[n].\n",
        "First, we establish that the inner for loop on lines 2-4 of Bubble-Sort satisfies the following"
      ],
      "metadata": {
        "id": "l3e_z11XMYin"
      }
    },
    {
      "cell_type": "markdown",
      "source": [
        "Loop invariant: Prior to each inner for loop iteration, the subarray Arr[i...Arr.length]'s value is contained in Arr[i...j] (at least one of them does, in the case of a tie).\n",
        "Initialization: Prior to the first iteration of the loop, we must demonstrate that the loop invariant is true. Before\n",
        "\n",
        "j = Arr.length for the initial iteration of the loop. We must thus demonstrate that the subarray Arr[i...Arr.length]'s minimal value is contained within it. Simply put, this is accurate. an invariant loop The smallest value in the subarray Arr[i...Arr.length] occurs within Arr[i...j] prior to any given inner for loop iteration (at least one of them does, in the case of a tie).\n",
        "Initialization: Prior to the loop's initial iteration, we must demonstrate that the loop's invariant still holds. j = Arr.length was the condition before to the loop's initial iteration. Therefore, we must demonstrate that the minimal value in the subarray Arr[i...Arr.length] occurs within Arr[i...Arr.length]. This is obviously true.\n",
        "Maintenance: Assume that the smallest value in the subarray Arr[i...Arr.length] is inside Arr[i...j] prior to a specific iteration of the inner for loop. We must demonstrate that the loop invariant still holds before the start of the subsequent iteration. There are three situations to take into account:\n",
        "Case 1: Arr[i...Arr.length]'s minimal value can be found inside Arr[i...j-2]. The smallest value then continues to exist within Arr[i...j-2] after the iteration because the exchange step has no effect on it.\n",
        "Case 2: Arr[j-1] is the subarray Arr[i...Arr.length]'s lowest value. When Arr[j-1] Arr[j], the exchange step is skipped since Arr[j-1] is the minimum. As a result, after iteration, the minimal value is still found in Arr[i...j-1].\n",
        "Case 3: Arr[j] is the subarray Arr[i...Arr.length]'s lowest value. The minimum is now included within Arr[i...j-1] because Arr[j] Arr[j-1] since Arr[j] is the minimum. Since they have the same value, it doesn't matter if Arr[j] == Arr[j-1] because there is no exchange;the smallest value of Arr[i...Arr.length] nevertheless appears at least once within Arr[i...j-1]\n",
        "Since in each of these scenarios the minimum value of Arr[i...Arr.length] occurs within Arr[i...j-1] following the iteration, the minimal value of Arr[i...Arr.length] occurs within Arr[i...j] at the start of the following iteration. Consequently, the loop invariant is valid for the following iteration.\n"
      ],
      "metadata": {
        "id": "8crSzpFSO_Z3"
      }
    },
    {
      "cell_type": "markdown",
      "source": [
        "On lines 1-4 of the outer for loop, we then demonstrate that the following loop invariant is valid:\n",
        "an invariant loop The smallest i-1 elements are in the array's initial i-1 positions at the beginning of each iteration, ordered according to size.\n",
        "Initialization: I was initially set to 1 before the first iteration. The statement \"The smallest 0 elements are in the first 0 places in the array, in sorted order\" is vacuously true.\n",
        "Maintenance: Assume that, prior to a specific iteration of the loop, the smallest i-1 elements were arranged in the array's initial i-1 positions, according to their sequence of decreasing size. No items of the subarray can be changed by the inner for loop. Arr[1...i-1] since it only ever modifies elements Arr[j] and Arr[j-1], and across all j i+1 by the loop limits during iterations of the inner for loop. As a result, after the iteration is finished, the smallest i-1 elements are still located in the first i-1 positions of the array, in sorted order. hence, as\n",
        "The smallest element in the subarray Arr[i...Arr.length] is the ith smallest element overall. Arr must always be a permutation of the original array. Arr[i] is the lowest element of the subarray Arr[i...Arr.length] following iteration, according to the inner for loop invariant. This implies that the\n",
        "\n",
        "The array is sorted so that the smallest I elements are located in the first I positions. The smallest i-1 elements are in the first i-1 positions in the array, sorted, as I increases at the beginning of the following iteration. Consequently, before the subsequent iteration, the loop invariant is still true.\n",
        "Termination: After the end of the loop, i = Arr.length. So, the smallest Arr.length-1 elements of the\n",
        "array are in the first Arr.length-1 places, in sorted order. This means that the whole array is in\n",
        "sorted order, since the last element must be the maximum.\n"
      ],
      "metadata": {
        "id": "sXjO57WeXajN"
      }
    },
    {
      "cell_type": "markdown",
      "source": [
        "The array is in sorted order after the outer for loop, and the algorithm ends immediately after the outer for loop terminates, thus we can conclude that Arr'[1] Arr'[2] ... Arr'[n]\n",
        "\n",
        "In order to demonstrate that the final array Arr' is a permutation (reordering) of the initial array Arr, we showed that Arr'[1] Arr'[2] ... Arr'[n] is the resulting sequence. The Sorting Problem is therefore solved, and Bubble-Sort is the right solution."
      ],
      "metadata": {
        "id": "vdB_vcs1YoRI"
      }
    }
  ]
}