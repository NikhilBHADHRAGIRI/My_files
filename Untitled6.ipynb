{
  "nbformat": 4,
  "nbformat_minor": 0,
  "metadata": {
    "colab": {
      "provenance": [],
      "authorship_tag": "ABX9TyMvR2qe96XjgQtqIgVRsiFV",
      "include_colab_link": true
    },
    "kernelspec": {
      "name": "python3",
      "display_name": "Python 3"
    },
    "language_info": {
      "name": "python"
    }
  },
  "cells": [
    {
      "cell_type": "markdown",
      "metadata": {
        "id": "view-in-github",
        "colab_type": "text"
      },
      "source": [
        "<a href=\"https://colab.research.google.com/github/NikhilBHADHRAGIRI/My_files/blob/main/Untitled6.ipynb\" target=\"_parent\"><img src=\"https://colab.research.google.com/assets/colab-badge.svg\" alt=\"Open In Colab\"/></a>"
      ]
    },
    {
      "cell_type": "code",
      "execution_count": null,
      "metadata": {
        "id": "n4FvXtSjGuR9"
      },
      "outputs": [],
      "source": []
    },
    {
      "cell_type": "markdown",
      "source": [
        "Book 2 chapter1 Exercise 2:"
      ],
      "metadata": {
        "id": "qTnMW-AwG6_I"
      }
    },
    {
      "cell_type": "code",
      "source": [
        "def mysum(*numbers):\n",
        "    output = 0\n",
        "    for number in numbers:\n",
        "            output += number\n",
        "    return output\n",
        "\n",
        "print(mysum(10, 20, 30, 40))"
      ],
      "metadata": {
        "colab": {
          "base_uri": "https://localhost:8080/"
        },
        "id": "KJWPhZM9HCBi",
        "outputId": "448989b2-301f-44b7-d0dc-0766ea4c76b7"
      },
      "execution_count": 1,
      "outputs": [
        {
          "output_type": "stream",
          "name": "stdout",
          "text": [
            "100\n"
          ]
        }
      ]
    },
    {
      "cell_type": "markdown",
      "source": [
        "Book 2 chapter1 Exercise 3:"
      ],
      "metadata": {
        "id": "WQ9Ba6lCIvse"
      }
    },
    {
      "cell_type": "code",
      "source": [
        "def run_timing():\n",
        "    \"\"\"Asks the user repeatedly for numeric input. Prints the average time and number of runs.\"\"\"\n",
        "\n",
        "    number_of_runs = 0\n",
        "    total_time = 0\n",
        "\n",
        "    while True:\n",
        "      one_run = input('Enter 10 km run time: ')\n",
        "\n",
        "      if not one_run:\n",
        "        break\n",
        "\n",
        "      number_of_runs += 1\n",
        "      total_time += float(one_run)\n",
        "\n",
        "    average_time = total_time / number_of_runs\n",
        "\n",
        "    print(f'Average of {average_time}, over {number_of_runs} runs')\n",
        "\n",
        "run_timing()"
      ],
      "metadata": {
        "colab": {
          "base_uri": "https://localhost:8080/"
        },
        "id": "xPw4U4QVKDxP",
        "outputId": "94fec0f8-f783-444c-fc77-1730f6183305"
      },
      "execution_count": 1,
      "outputs": [
        {
          "output_type": "stream",
          "name": "stdout",
          "text": [
            "Enter 10 km run time: 10\n",
            "Enter 10 km run time: 15\n",
            "Enter 10 km run time: 20\n",
            "Enter 10 km run time: 5\n",
            "Enter 10 km run time: \n",
            "Average of 12.5, over 4 runs\n"
          ]
        }
      ]
    },
    {
      "cell_type": "markdown",
      "source": [
        "Book 2 Chapter 1 Exercise 4:"
      ],
      "metadata": {
        "id": "PRXc2JZjKvoW"
      }
    },
    {
      "cell_type": "code",
      "source": [
        "def hex_output():\n",
        "    decnum = 0\n",
        "    hexnum = input('Enter a hex number to convert: ')\n",
        "    for power, digit in enumerate(reversed(hexnum)):\n",
        "         decnum += int(digit, 16) * (16 ** power)\n",
        "    print(decnum)\n",
        "\n",
        "hex_output()"
      ],
      "metadata": {
        "colab": {
          "base_uri": "https://localhost:8080/"
        },
        "id": "Q-hkL2TjK3cx",
        "outputId": "a03dfc43-bb16-4df2-d1cf-d5b4d8cb00ea"
      },
      "execution_count": 5,
      "outputs": [
        {
          "output_type": "stream",
          "name": "stdout",
          "text": [
            "Enter a hex number to convert: 00000010\n",
            "16\n"
          ]
        }
      ]
    },
    {
      "cell_type": "markdown",
      "source": [
        "Book1 Chapter 2 Exercise 1:"
      ],
      "metadata": {
        "id": "w1wYaMEFJ78R"
      }
    },
    {
      "cell_type": "markdown",
      "source": [
        "a.expected an indented block after 'while' statement\n",
        "b.\n",
        "12\n",
        "24\n",
        "48\n",
        "96\n",
        "c.0 100\n",
        "d.indentation error\n",
        "e.No Output\n",
        "f.18 100"
      ],
      "metadata": {
        "id": "6-eAaJ--LvTV"
      }
    },
    {
      "cell_type": "markdown",
      "source": [
        "Book1 Chapter 2 Exercise 2:"
      ],
      "metadata": {
        "id": "jj1TqQYTWJz6"
      }
    },
    {
      "cell_type": "markdown",
      "source": [
        "a.\n",
        "  1\n",
        "  2\n",
        "  3\n",
        "  4\n",
        "  5\n",
        "  6\n",
        "  7\n",
        "  8\n",
        "  9\n",
        "b.\n",
        "  1\n",
        "  10\n",
        "c.\n",
        "  red\n",
        "  green\n",
        "  blue\n",
        "d.\n",
        "  1\n",
        "  2\n",
        "  3\n",
        "  4\n",
        "  5\n",
        "  6\n",
        "  7\n",
        "  8\n",
        "  9\n",
        "e.\n",
        "  0\n",
        "  1\n",
        "  2\n",
        "  3\n",
        "  4\n",
        "  5\n",
        "  6\n",
        "  7\n",
        "f.\n",
        "  0\n",
        "  20\n",
        "g.\n",
        "  1\n",
        "  12\n",
        "  123\n",
        "  1234\n",
        "  12345\n",
        "  123456\n",
        "  1234567\n",
        "  12345678\n",
        "h.\n",
        "  1\n",
        "  12\n",
        "  123\n",
        "  1234\n",
        "  12345\n",
        "  123456\n",
        "  1234567\n",
        "  12345678\n",
        "  123456789"
      ],
      "metadata": {
        "id": "_8dTgx4VWcmB"
      }
    },
    {
      "cell_type": "markdown",
      "source": [
        "Book1 Chapter 2 Exercise 3:"
      ],
      "metadata": {
        "id": "dYiwOiVPYkaX"
      }
    },
    {
      "cell_type": "code",
      "source": [
        "n=20\n",
        "s=0\n",
        "a=1/2\n",
        "while(n>0):\n",
        "  s=s+a\n",
        "  a=a/2\n",
        "  n=n-1\n",
        "print(s)\n",
        "\n",
        "\n",
        "\n",
        "\n",
        "\n",
        "\n",
        "\n",
        "\n",
        "\n",
        "\n",
        "\n",
        "\n",
        "\n",
        "\n",
        "\n",
        "\n",
        "\n",
        "\n",
        "\n",
        "\n",
        "\n",
        "\n"
      ],
      "metadata": {
        "colab": {
          "base_uri": "https://localhost:8080/"
        },
        "id": "dUaeD0RCMUOf",
        "outputId": "71080522-fc8f-45f0-ac58-ff0a59d46c28"
      },
      "execution_count": 26,
      "outputs": [
        {
          "output_type": "stream",
          "name": "stdout",
          "text": [
            "0.9999990463256836\n"
          ]
        }
      ]
    },
    {
      "cell_type": "markdown",
      "source": [
        "If it is calculated to infite iterations the sum will be infinite"
      ],
      "metadata": {
        "id": "Iiu7FJbQZUZw"
      }
    }
  ]
}